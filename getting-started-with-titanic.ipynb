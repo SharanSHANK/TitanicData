{
 "cells": [
  {
   "cell_type": "code",
   "execution_count": 1,
   "id": "0134886f",
   "metadata": {
    "_cell_guid": "b1076dfc-b9ad-4769-8c92-a6c4dae69d19",
    "_uuid": "8f2839f25d086af736a60e9eeb907d3b93b6e0e5",
    "execution": {
     "iopub.execute_input": "2024-06-21T20:01:15.445487Z",
     "iopub.status.busy": "2024-06-21T20:01:15.445066Z",
     "iopub.status.idle": "2024-06-21T20:01:16.489789Z",
     "shell.execute_reply": "2024-06-21T20:01:16.488432Z"
    },
    "papermill": {
     "duration": 1.052569,
     "end_time": "2024-06-21T20:01:16.492608",
     "exception": false,
     "start_time": "2024-06-21T20:01:15.440039",
     "status": "completed"
    },
    "tags": []
   },
   "outputs": [
    {
     "name": "stdout",
     "output_type": "stream",
     "text": [
      "/kaggle/input/titanic/train.csv\n",
      "/kaggle/input/titanic/test.csv\n",
      "/kaggle/input/titanic/gender_submission.csv\n"
     ]
    }
   ],
   "source": [
    "# This Python 3 environment comes with many helpful analytics libraries installed\n",
    "# It is defined by the kaggle/python Docker image: https://github.com/kaggle/docker-python\n",
    "# For example, here's several helpful packages to load\n",
    "\n",
    "import numpy as np # linear algebra\n",
    "import pandas as pd # data processing, CSV file I/O (e.g. pd.read_csv)\n",
    "\n",
    "# Input data files are available in the read-only \"../input/\" directory\n",
    "# For example, running this (by clicking run or pressing Shift+Enter) will list all files under the input directory\n",
    "\n",
    "import os\n",
    "for dirname, _, filenames in os.walk('/kaggle/input'):\n",
    "    for filename in filenames:\n",
    "        print(os.path.join(dirname, filename))\n",
    "\n",
    "# You can write up to 20GB to the current directory (/kaggle/working/) that gets preserved as output when you create a version using \"Save & Run All\" \n",
    "# You can also write temporary files to /kaggle/temp/, but they won't be saved outside of the current session"
   ]
  },
  {
   "cell_type": "code",
   "execution_count": 2,
   "id": "160217a1",
   "metadata": {
    "execution": {
     "iopub.execute_input": "2024-06-21T20:01:16.501015Z",
     "iopub.status.busy": "2024-06-21T20:01:16.499970Z",
     "iopub.status.idle": "2024-06-21T20:01:16.555630Z",
     "shell.execute_reply": "2024-06-21T20:01:16.554176Z"
    },
    "papermill": {
     "duration": 0.070867,
     "end_time": "2024-06-21T20:01:16.566661",
     "exception": false,
     "start_time": "2024-06-21T20:01:16.495794",
     "status": "completed"
    },
    "tags": []
   },
   "outputs": [
    {
     "name": "stdout",
     "output_type": "stream",
     "text": [
      "     PassengerId  Survived  Pclass  \\\n",
      "0              1         0       3   \n",
      "1              2         1       1   \n",
      "2              3         1       3   \n",
      "3              4         1       1   \n",
      "4              5         0       3   \n",
      "..           ...       ...     ...   \n",
      "886          887         0       2   \n",
      "887          888         1       1   \n",
      "888          889         0       3   \n",
      "889          890         1       1   \n",
      "890          891         0       3   \n",
      "\n",
      "                                                  Name     Sex   Age  SibSp  \\\n",
      "0                              Braund, Mr. Owen Harris    male  22.0      1   \n",
      "1    Cumings, Mrs. John Bradley (Florence Briggs Th...  female  38.0      1   \n",
      "2                               Heikkinen, Miss. Laina  female  26.0      0   \n",
      "3         Futrelle, Mrs. Jacques Heath (Lily May Peel)  female  35.0      1   \n",
      "4                             Allen, Mr. William Henry    male  35.0      0   \n",
      "..                                                 ...     ...   ...    ...   \n",
      "886                              Montvila, Rev. Juozas    male  27.0      0   \n",
      "887                       Graham, Miss. Margaret Edith  female  19.0      0   \n",
      "888           Johnston, Miss. Catherine Helen \"Carrie\"  female   NaN      1   \n",
      "889                              Behr, Mr. Karl Howell    male  26.0      0   \n",
      "890                                Dooley, Mr. Patrick    male  32.0      0   \n",
      "\n",
      "     Parch            Ticket     Fare Cabin Embarked  \n",
      "0        0         A/5 21171   7.2500   NaN        S  \n",
      "1        0          PC 17599  71.2833   C85        C  \n",
      "2        0  STON/O2. 3101282   7.9250   NaN        S  \n",
      "3        0            113803  53.1000  C123        S  \n",
      "4        0            373450   8.0500   NaN        S  \n",
      "..     ...               ...      ...   ...      ...  \n",
      "886      0            211536  13.0000   NaN        S  \n",
      "887      0            112053  30.0000   B42        S  \n",
      "888      2        W./C. 6607  23.4500   NaN        S  \n",
      "889      0            111369  30.0000  C148        C  \n",
      "890      0            370376   7.7500   NaN        Q  \n",
      "\n",
      "[891 rows x 12 columns]\n"
     ]
    }
   ],
   "source": [
    "train_data = pd.read_csv(\"/kaggle/input/titanic/train.csv\")\n",
    "train_data.head()\n",
    "print(train_data)"
   ]
  },
  {
   "cell_type": "code",
   "execution_count": 3,
   "id": "bb90de0b",
   "metadata": {
    "execution": {
     "iopub.execute_input": "2024-06-21T20:01:16.574916Z",
     "iopub.status.busy": "2024-06-21T20:01:16.574532Z",
     "iopub.status.idle": "2024-06-21T20:01:16.602190Z",
     "shell.execute_reply": "2024-06-21T20:01:16.601101Z"
    },
    "papermill": {
     "duration": 0.034663,
     "end_time": "2024-06-21T20:01:16.604833",
     "exception": false,
     "start_time": "2024-06-21T20:01:16.570170",
     "status": "completed"
    },
    "tags": []
   },
   "outputs": [
    {
     "data": {
      "text/html": [
       "<div>\n",
       "<style scoped>\n",
       "    .dataframe tbody tr th:only-of-type {\n",
       "        vertical-align: middle;\n",
       "    }\n",
       "\n",
       "    .dataframe tbody tr th {\n",
       "        vertical-align: top;\n",
       "    }\n",
       "\n",
       "    .dataframe thead th {\n",
       "        text-align: right;\n",
       "    }\n",
       "</style>\n",
       "<table border=\"1\" class=\"dataframe\">\n",
       "  <thead>\n",
       "    <tr style=\"text-align: right;\">\n",
       "      <th></th>\n",
       "      <th>PassengerId</th>\n",
       "      <th>Pclass</th>\n",
       "      <th>Name</th>\n",
       "      <th>Sex</th>\n",
       "      <th>Age</th>\n",
       "      <th>SibSp</th>\n",
       "      <th>Parch</th>\n",
       "      <th>Ticket</th>\n",
       "      <th>Fare</th>\n",
       "      <th>Cabin</th>\n",
       "      <th>Embarked</th>\n",
       "    </tr>\n",
       "  </thead>\n",
       "  <tbody>\n",
       "    <tr>\n",
       "      <th>0</th>\n",
       "      <td>892</td>\n",
       "      <td>3</td>\n",
       "      <td>Kelly, Mr. James</td>\n",
       "      <td>male</td>\n",
       "      <td>34.5</td>\n",
       "      <td>0</td>\n",
       "      <td>0</td>\n",
       "      <td>330911</td>\n",
       "      <td>7.8292</td>\n",
       "      <td>NaN</td>\n",
       "      <td>Q</td>\n",
       "    </tr>\n",
       "    <tr>\n",
       "      <th>1</th>\n",
       "      <td>893</td>\n",
       "      <td>3</td>\n",
       "      <td>Wilkes, Mrs. James (Ellen Needs)</td>\n",
       "      <td>female</td>\n",
       "      <td>47.0</td>\n",
       "      <td>1</td>\n",
       "      <td>0</td>\n",
       "      <td>363272</td>\n",
       "      <td>7.0000</td>\n",
       "      <td>NaN</td>\n",
       "      <td>S</td>\n",
       "    </tr>\n",
       "    <tr>\n",
       "      <th>2</th>\n",
       "      <td>894</td>\n",
       "      <td>2</td>\n",
       "      <td>Myles, Mr. Thomas Francis</td>\n",
       "      <td>male</td>\n",
       "      <td>62.0</td>\n",
       "      <td>0</td>\n",
       "      <td>0</td>\n",
       "      <td>240276</td>\n",
       "      <td>9.6875</td>\n",
       "      <td>NaN</td>\n",
       "      <td>Q</td>\n",
       "    </tr>\n",
       "    <tr>\n",
       "      <th>3</th>\n",
       "      <td>895</td>\n",
       "      <td>3</td>\n",
       "      <td>Wirz, Mr. Albert</td>\n",
       "      <td>male</td>\n",
       "      <td>27.0</td>\n",
       "      <td>0</td>\n",
       "      <td>0</td>\n",
       "      <td>315154</td>\n",
       "      <td>8.6625</td>\n",
       "      <td>NaN</td>\n",
       "      <td>S</td>\n",
       "    </tr>\n",
       "    <tr>\n",
       "      <th>4</th>\n",
       "      <td>896</td>\n",
       "      <td>3</td>\n",
       "      <td>Hirvonen, Mrs. Alexander (Helga E Lindqvist)</td>\n",
       "      <td>female</td>\n",
       "      <td>22.0</td>\n",
       "      <td>1</td>\n",
       "      <td>1</td>\n",
       "      <td>3101298</td>\n",
       "      <td>12.2875</td>\n",
       "      <td>NaN</td>\n",
       "      <td>S</td>\n",
       "    </tr>\n",
       "  </tbody>\n",
       "</table>\n",
       "</div>"
      ],
      "text/plain": [
       "   PassengerId  Pclass                                          Name     Sex  \\\n",
       "0          892       3                              Kelly, Mr. James    male   \n",
       "1          893       3              Wilkes, Mrs. James (Ellen Needs)  female   \n",
       "2          894       2                     Myles, Mr. Thomas Francis    male   \n",
       "3          895       3                              Wirz, Mr. Albert    male   \n",
       "4          896       3  Hirvonen, Mrs. Alexander (Helga E Lindqvist)  female   \n",
       "\n",
       "    Age  SibSp  Parch   Ticket     Fare Cabin Embarked  \n",
       "0  34.5      0      0   330911   7.8292   NaN        Q  \n",
       "1  47.0      1      0   363272   7.0000   NaN        S  \n",
       "2  62.0      0      0   240276   9.6875   NaN        Q  \n",
       "3  27.0      0      0   315154   8.6625   NaN        S  \n",
       "4  22.0      1      1  3101298  12.2875   NaN        S  "
      ]
     },
     "execution_count": 3,
     "metadata": {},
     "output_type": "execute_result"
    }
   ],
   "source": [
    "test_data = pd.read_csv(\"/kaggle/input/titanic/test.csv\")\n",
    "test_data.head()"
   ]
  },
  {
   "cell_type": "code",
   "execution_count": 4,
   "id": "3ae0b198",
   "metadata": {
    "execution": {
     "iopub.execute_input": "2024-06-21T20:01:16.613784Z",
     "iopub.status.busy": "2024-06-21T20:01:16.613081Z",
     "iopub.status.idle": "2024-06-21T20:01:18.834519Z",
     "shell.execute_reply": "2024-06-21T20:01:18.833316Z"
    },
    "papermill": {
     "duration": 2.228859,
     "end_time": "2024-06-21T20:01:18.837194",
     "exception": false,
     "start_time": "2024-06-21T20:01:16.608335",
     "status": "completed"
    },
    "tags": []
   },
   "outputs": [
    {
     "name": "stdout",
     "output_type": "stream",
     "text": [
      "[0.9        0.         0.933      0.8        1.         0.08\n",
      " 0.         1.         0.29       0.92       0.         0.33\n",
      " 0.33       0.097      0.70020413 0.499      0.09       0.\n",
      " 0.01       0.824      0.4885     0.09       1.         0.\n",
      " 0.21       0.06       1.         0.9        0.         1.\n",
      " 0.31       0.665      0.59       0.17       0.015      0.22\n",
      " 0.93       0.         0.45       0.08416667 0.32       0.48\n",
      " 1.         0.18       0.9        0.         0.06       0.02333333\n",
      " 0.73       0.43       0.53125    0.916      0.66       0.02\n",
      " 0.17       0.54       0.06       0.02       0.155      0.33\n",
      " 0.         0.16777381 0.02       0.27       0.19       0.1\n",
      " 0.29       0.1        0.9        0.08966667 0.         0.\n",
      " 0.43       0.         0.98       0.19       1.         0.\n",
      " 0.16       1.         0.02       0.         0.         0.01\n",
      " 0.84316667 0.17       0.         0.         0.19       0.85\n",
      " 0.19       0.15291667 0.46       0.70020413 0.27       0.06666667\n",
      " 0.01       0.82085714 0.07766667 0.         0.21       0.08\n",
      " 0.67       0.13       1.         0.         0.13       0.14\n",
      " 0.09       0.04166667 0.55       0.48       0.065      0.\n",
      " 0.         0.02       0.05       0.23       0.98       0.\n",
      " 0.92       0.44       0.         0.19       1.         1.\n",
      " 0.9825     0.37636364 0.         0.         0.01       0.29416667\n",
      " 0.92       0.36       0.67       1.         1.         0.19\n",
      " 0.05       0.63       1.         0.09       1.         0.06\n",
      " 0.         0.15       0.49       0.         0.52       0.\n",
      " 0.95       0.04       0.18       0.39843434 0.08       0.5335\n",
      " 0.01       0.         0.655      0.         0.         0.05\n",
      " 0.56       0.61       0.01       0.21       0.949      0.08\n",
      " 0.9275     0.38       1.         0.1        1.         0.15166667\n",
      " 0.9        0.01       0.         0.39       0.9       ]\n"
     ]
    }
   ],
   "source": [
    "import pandas as pd\n",
    "from sklearn.ensemble import RandomForestRegressor\n",
    "from sklearn.model_selection import train_test_split\n",
    "from sklearn.compose import ColumnTransformer\n",
    "from sklearn.pipeline import Pipeline\n",
    "from sklearn.impute import SimpleImputer\n",
    "from sklearn.preprocessing import OneHotEncoder\n",
    "###import the libraries\n",
    "\n",
    "train_data_path = \"/kaggle/input/titanic/train.csv\"\n",
    "###variable for the trained data\n",
    "\n",
    "trainer_data = pd.read_csv(train_data_path)\n",
    "y = trainer_data.Survived\n",
    "\n",
    "###Target Prediction\n",
    "features = ['Pclass', 'Age', 'Fare','Sex', 'Embarked']\n",
    "X = trainer_data[features]\n",
    "\n",
    "###Getting rid of missing values\n",
    "numerical_transformer = SimpleImputer(strategy='mean')\n",
    "###For the categorical Data\n",
    "categorical_transformer = Pipeline(steps=[\n",
    "    ('imputer', SimpleImputer(strategy='most_frequent')),\n",
    "    ('onehot', OneHotEncoder(handle_unknown='ignore'))\n",
    "])\n",
    "###\n",
    "preprocessor = ColumnTransformer(\n",
    "    transformers=[\n",
    "        ('num', numerical_transformer, ['Pclass', 'Age', 'Fare']),\n",
    "        ('cat', categorical_transformer, ['Sex', 'Embarked'])\n",
    "    ]\n",
    ")\n",
    "\n",
    "Titanic_model = RandomForestRegressor(random_state=1)\n",
    "\n",
    "clf = Pipeline(steps=[('preprocessor', preprocessor),\n",
    "                      ('Titanic_model', Titanic_model)\n",
    "                     ])\n",
    "\n",
    "# Split data into training and validation subsets\n",
    "X_train, X_valid, y_train, y_valid = train_test_split(X, y, train_size=0.8, test_size=0.2, random_state=1)\n",
    "\n",
    "# Preprocessing of training data, fitting model \n",
    "clf.fit(X_train, y_train)\n",
    "\n",
    "# Preprocessing of validation data, get predictions\n",
    "predictions = clf.predict(X_valid)\n",
    "\n",
    "print(predictions)\n"
   ]
  }
 ],
 "metadata": {
  "kaggle": {
   "accelerator": "none",
   "dataSources": [
    {
     "databundleVersionId": 26502,
     "sourceId": 3136,
     "sourceType": "competition"
    }
   ],
   "dockerImageVersionId": 30732,
   "isGpuEnabled": false,
   "isInternetEnabled": false,
   "language": "python",
   "sourceType": "notebook"
  },
  "kernelspec": {
   "display_name": "Python 3",
   "language": "python",
   "name": "python3"
  },
  "language_info": {
   "codemirror_mode": {
    "name": "ipython",
    "version": 3
   },
   "file_extension": ".py",
   "mimetype": "text/x-python",
   "name": "python",
   "nbconvert_exporter": "python",
   "pygments_lexer": "ipython3",
   "version": "3.10.13"
  },
  "papermill": {
   "default_parameters": {},
   "duration": 7.175264,
   "end_time": "2024-06-21T20:01:19.462783",
   "environment_variables": {},
   "exception": null,
   "input_path": "__notebook__.ipynb",
   "output_path": "__notebook__.ipynb",
   "parameters": {},
   "start_time": "2024-06-21T20:01:12.287519",
   "version": "2.5.0"
  }
 },
 "nbformat": 4,
 "nbformat_minor": 5
}
